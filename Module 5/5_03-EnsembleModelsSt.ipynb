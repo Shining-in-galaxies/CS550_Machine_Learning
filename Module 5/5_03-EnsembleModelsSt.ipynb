{
 "cells": [
  {
   "cell_type": "code",
   "execution_count": 3,
   "metadata": {},
   "outputs": [],
   "source": [
    "import numpy as np\n",
    "import matplotlib.pyplot as plt\n",
    "%matplotlib inline\n",
    "plt.rcParams[\"figure.dpi\"] = 100\n",
    "plt.rcParams[\"savefig.bbox\"] = \"tight\"\n",
    "\n",
    "np.set_printoptions(precision=3)\n",
    "import pandas as pd"
   ]
  },
  {
   "cell_type": "markdown",
   "metadata": {},
   "source": [
    "### 1. Voting Classifier"
   ]
  },
  {
   "cell_type": "markdown",
   "metadata": {},
   "source": [
    "- Import `LogisticRegression`, `DecisionTreeClassifier`, `VotingClassifier` classes\n",
    "- Import `make_moons` function from `sklearn.datasets`\n",
    "- Split data into test and train datasets\n",
    "- Create a voting classifier using logistic regressor and a tree classifier. Use soft voting.\n",
    "- Print the scores for ensembeled model, logistic regressor and the decision tree.\n",
    "- If you like, you can show the decision boundaries on a contour plot"
   ]
  },
  {
   "cell_type": "code",
   "execution_count": null,
   "metadata": {},
   "outputs": [],
   "source": []
  },
  {
   "cell_type": "code",
   "execution_count": 1,
   "metadata": {},
   "outputs": [],
   "source": [
    "from sklearn.linear_model import LogisticRegression\n",
    "from sklearn.tree import DecisionTreeClassifier\n",
    "from sklearn.ensemble import VotingClassifier\n",
    "from sklearn.datasets import make_moons\n",
    "from sklearn.model_selection import train_test_split"
   ]
  },
  {
   "cell_type": "markdown",
   "metadata": {},
   "source": [
    "### 2.  Random Forests"
   ]
  },
  {
   "cell_type": "markdown",
   "metadata": {},
   "source": [
    "### 2.1\n",
    "- Import `RandomForestClassifier`\n",
    "- Import `load_digits`\n",
    "- Split fdata into train and test datasets\n",
    "- Start a random forest model with `warm_start=True`\n",
    "- Train the model for different number of estimators from 1 to 100 in steps of 5 in a loop\n",
    "- Store train and test scores for each estimator and plot"
   ]
  },
  {
   "cell_type": "markdown",
   "metadata": {},
   "source": [
    "### 2.2\n",
    "- Import `RandomForestClassifier`\n",
    "- Import `load_digits`\n",
    "- Split fdata into train and test datasets\n",
    "- Train the random forest model for different number of `max_features` from 1 to 60 in steps of 5 in a loop\n",
    "- Set `n_estimators=200` and `oob_score=True`\n",
    "- Store train, test, and oob scores for each estimator and plot"
   ]
  },
  {
   "cell_type": "code",
   "execution_count": null,
   "metadata": {},
   "outputs": [],
   "source": []
  },
  {
   "cell_type": "markdown",
   "metadata": {},
   "source": [
    "### 2.3\n",
    "- Import `RandomForestClassifier`\n",
    "- Import `load_iris`\n",
    "- Split fdata into train and test datasets\n",
    "- Train a random forest model for `n_estimators=100`\n",
    "- Print the geature importance values\n",
    "- Create a bar plot for the feature importances"
   ]
  },
  {
   "cell_type": "code",
   "execution_count": null,
   "metadata": {},
   "outputs": [],
   "source": []
  }
 ],
 "metadata": {
  "kernelspec": {
   "display_name": "Python 3",
   "language": "python",
   "name": "python3"
  },
  "language_info": {
   "codemirror_mode": {
    "name": "ipython",
    "version": 3
   },
   "file_extension": ".py",
   "mimetype": "text/x-python",
   "name": "python",
   "nbconvert_exporter": "python",
   "pygments_lexer": "ipython3",
   "version": "3.6.10"
  }
 },
 "nbformat": 4,
 "nbformat_minor": 4
}
