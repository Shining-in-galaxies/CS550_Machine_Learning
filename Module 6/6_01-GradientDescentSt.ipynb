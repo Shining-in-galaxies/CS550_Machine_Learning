{
 "cells": [
  {
   "cell_type": "code",
   "execution_count": 1,
   "metadata": {},
   "outputs": [],
   "source": [
    "import numpy as np\n",
    "import matplotlib.pyplot as plt\n",
    "%matplotlib inline\n",
    "plt.rcParams[\"savefig.dpi\"] = 300\n",
    "plt.rcParams[\"savefig.bbox\"] = \"tight\"\n",
    "\n",
    "np.set_printoptions(precision=3)\n",
    "import pandas as pd\n",
    "from sklearn.model_selection import train_test_split\n",
    "from sklearn.pipeline import make_pipeline\n",
    "from sklearn.preprocessing import scale, StandardScaler"
   ]
  },
  {
   "cell_type": "markdown",
   "metadata": {},
   "source": [
    "### Step 1. Gradient Boosting\n",
    "- Load the Iris dataset from Sklearn with `load_iris`\n",
    "- Split data into train and test datasets\n",
    "- Train a `GRadientBoostingClassifier` model and report the score on the test dataset"
   ]
  },
  {
   "cell_type": "code",
   "execution_count": null,
   "metadata": {},
   "outputs": [],
   "source": []
  },
  {
   "cell_type": "markdown",
   "metadata": {},
   "source": [
    "### Step 2. Illustration on synthetic regression dataset\n",
    "- Create a polynomial dataset using the `make_poly` function \n",
    "- Split data into train and test datasets\n",
    "- Train a `GRadientBoostingRegressor` model and report the score on the test dataset\n",
    "  - Set `max_depth=2`, `n_estimators=10`, and `learning_rate=.3`"
   ]
  },
  {
   "cell_type": "code",
   "execution_count": 5,
   "metadata": {},
   "outputs": [
    {
     "data": {
      "text/plain": [
       "0.8117763334371788"
      ]
     },
     "execution_count": 5,
     "metadata": {},
     "output_type": "execute_result"
    }
   ],
   "source": [
    "from sklearn.ensemble import GradientBoostingRegressor\n",
    "\n",
    "def make_wave(n_samples=100):\n",
    "    rnd = np.random.RandomState(42)\n",
    "    x = rnd.uniform(-3, 3, size=n_samples)\n",
    "    y_no_noise = (np.sin(4 * x))\n",
    "    y = (y_no_noise + rnd.normal(scale=0.2, size=len(x))) / 2\n",
    "    return x.reshape(-1, 1), y\n",
    "X, y = make_wave(100)\n",
    "\n",
    "def make_poly(n_samples=100):\n",
    "    rnd = np.random.RandomState(42)\n",
    "    x = rnd.uniform(-3, 3, size=n_samples)\n",
    "    y_no_noise = (x) ** 3\n",
    "    y = (y_no_noise + rnd.normal(scale=3, size=len(x))) / 2\n",
    "    return x.reshape(-1, 1), y\n"
   ]
  },
  {
   "cell_type": "code",
   "execution_count": null,
   "metadata": {},
   "outputs": [],
   "source": []
  },
  {
   "cell_type": "markdown",
   "metadata": {},
   "source": [
    "### Step 3. Simulating Gradient Boosting \n",
    "- The `staged_predict()` method measures the validation error at each stage of training (i.e. with one tree, with two trees…) to find the optimal number of trees.\n",
    "- Create a numpy array of size 1000 between minimum and maximum values of the data set you formed in the previous step\n",
    "- Create a list of predictions for this numpy array using the Gradient Regressor model you trained in Step 2\n",
    "- Plot the dataset from Step 2 and your predictions for different values of number of estimators."
   ]
  },
  {
   "cell_type": "code",
   "execution_count": null,
   "metadata": {},
   "outputs": [],
   "source": []
  },
  {
   "cell_type": "markdown",
   "metadata": {},
   "source": [
    "### Step 4. Illustration of Gradient Descent\n",
    "- Plot the residual and total predictions for `n_estimators = [0, 1, 4, 8]`"
   ]
  },
  {
   "cell_type": "code",
   "execution_count": null,
   "metadata": {},
   "outputs": [],
   "source": []
  },
  {
   "cell_type": "markdown",
   "metadata": {},
   "source": [
    "### Step 5: Gradient Boosting Regresor on Boston Dataset\n",
    "- Load Boston dataset from sklearn with `load_boston`\n",
    "- Split the dataset into train and test datasets\n",
    "- Train a Gradient Boosting Regressor model and test it on the test dataset\n",
    "- Execute a grid search over different learning rates for the gradient boosting regressor model."
   ]
  },
  {
   "cell_type": "code",
   "execution_count": null,
   "metadata": {},
   "outputs": [],
   "source": []
  }
 ],
 "metadata": {
  "kernelspec": {
   "display_name": "Python 3",
   "language": "python",
   "name": "python3"
  },
  "language_info": {
   "codemirror_mode": {
    "name": "ipython",
    "version": 3
   },
   "file_extension": ".py",
   "mimetype": "text/x-python",
   "name": "python",
   "nbconvert_exporter": "python",
   "pygments_lexer": "ipython3",
   "version": "3.8.3"
  }
 },
 "nbformat": 4,
 "nbformat_minor": 4
}
